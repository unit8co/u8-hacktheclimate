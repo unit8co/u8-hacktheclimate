{
  "cells": [
    {
      "cell_type": "code",
      "source": [
        "%load_ext autoreload"
      ],
      "outputs": [],
      "execution_count": 1,
      "metadata": {}
    },
    {
      "cell_type": "code",
      "source": [
        "%autoreload 2"
      ],
      "outputs": [],
      "execution_count": 2,
      "metadata": {
        "collapsed": true,
        "jupyter": {
          "source_hidden": false,
          "outputs_hidden": false
        },
        "nteract": {
          "transient": {
            "deleting": false
          }
        }
      }
    },
    {
      "cell_type": "code",
      "source": [
        "import sys\n",
        "sys.path.append('/home/azureuser/cloudfiles/code/Users/src/')"
      ],
      "outputs": [],
      "execution_count": 3,
      "metadata": {
        "collapsed": true,
        "jupyter": {
          "source_hidden": false,
          "outputs_hidden": false
        },
        "nteract": {
          "transient": {
            "deleting": false
          }
        },
        "gather": {
          "logged": 1616755186841
        }
      }
    },
    {
      "cell_type": "code",
      "source": [
        "import ee\n",
        "\n",
        "# Trigger the authentication flow.\n",
        "ee.Authenticate()\n",
        "\n",
        "# Initialize the library.\n",
        "ee.Initialize()"
      ],
      "outputs": [
        {
          "output_type": "display_data",
          "data": {
            "text/plain": "<IPython.core.display.HTML object>",
            "text/html": "<p>To authorize access needed by Earth Engine, open the following\n        URL in a web browser and follow the instructions:</p>\n        <p><a href=https://accounts.google.com/o/oauth2/auth?client_id=517222506229-vsmmajv00ul0bs7p89v5m89qs8eb9359.apps.googleusercontent.com&scope=https%3A%2F%2Fwww.googleapis.com%2Fauth%2Fearthengine+https%3A%2F%2Fwww.googleapis.com%2Fauth%2Fdevstorage.full_control&redirect_uri=urn%3Aietf%3Awg%3Aoauth%3A2.0%3Aoob&response_type=code&code_challenge=ZRSFN-FYT51zdFNpFpjAJF4kZpDfOK4GKX91u7l2A2o&code_challenge_method=S256>https://accounts.google.com/o/oauth2/auth?client_id=517222506229-vsmmajv00ul0bs7p89v5m89qs8eb9359.apps.googleusercontent.com&scope=https%3A%2F%2Fwww.googleapis.com%2Fauth%2Fearthengine+https%3A%2F%2Fwww.googleapis.com%2Fauth%2Fdevstorage.full_control&redirect_uri=urn%3Aietf%3Awg%3Aoauth%3A2.0%3Aoob&response_type=code&code_challenge=ZRSFN-FYT51zdFNpFpjAJF4kZpDfOK4GKX91u7l2A2o&code_challenge_method=S256</a></p>\n        <p>The authorization workflow will generate a code, which you\n        should paste in the box below</p>\n        "
          },
          "metadata": {}
        },
        {
          "output_type": "stream",
          "name": "stdout",
          "text": [
            "\n",
            "Successfully saved authorization token.\n"
          ]
        }
      ],
      "execution_count": 6,
      "metadata": {
        "collapsed": true,
        "jupyter": {
          "source_hidden": false,
          "outputs_hidden": false
        },
        "nteract": {
          "transient": {
            "deleting": false
          }
        },
        "gather": {
          "logged": 1616755316320
        }
      }
    },
    {
      "cell_type": "code",
      "source": [
        "\"\"\"\n",
        "Detect Methane hotspots\n",
        "------------------------------\n",
        "Functions to load and detect methane hotspots\n",
        "\"\"\"\n",
        "import pandas as pd\n",
        "import numpy as np\n",
        "import geopandas as gpd\n",
        "import shapely\n",
        "import ee\n",
        "\n",
        "# Load infra\n",
        "from infrastructure import plants_as_gdf, pipelines_as_gdf\n",
        "\n",
        "df_plants = plants_as_gdf()\n",
        "df_pipelines = pipelines_as_gdf()\n",
        "df_pipelines = df_pipelines[df_pipelines.geometry.notnull()]\n",
        "\n",
        "def hotspots_as_gdf(hotspots_gpd, start_date, end_date):\n",
        "    \"\"\"\n",
        "    Merge hotspots with infrastructure data and return list of most critical \n",
        "    methane events linked to fossil fuel production site\n",
        "    :param hotspots_gpd: a geopandas dataframe of detected methane events\n",
        "    :return: a geopandas dataframe with most critical events linked to fossil fule infrastructure\n",
        "    \"\"\"\n",
        "\n",
        "    return (hotspots_gpd\n",
        "        .assign(min_dist_plant = lambda _df: _df.apply(lambda _e: df_plants.geometry.distance(_e.geometry).min(), axis=1))\n",
        "        .assign(min_dist_pipeline = lambda _df: _df.apply(lambda _e: df_pipelines.geometry.distance(_e.geometry).min(), axis=1))\n",
        "        .assign(min_dist_infra = lambda _df: _df[[\"min_distance_to_plant\", \"min_distance_to_pipeline\"]].min(axis=1))\n",
        "        .assign(area_m2 = lambda _df: _df.geometry.area)\n",
        "        # 0 criticality if more than 20km, linear in-between\n",
        "        .assign(infra_dist_score = lambda _df: (20 - _df.min_distance_to_infra.clip(0, 20) / 20) )\n",
        "        # log of size\n",
        "        .assign(criticality = lambda _df: np.log(_df.area_m2+1) / np.log(1.01) / _df.infrastructure_distance_score)\n",
        "        .sort_values(by=\"criticality\", ascending=False)\n",
        "        .assign(start_date=start_date)\n",
        "        .assign(end_date=end_date)\n",
        "    )\n",
        "\n",
        "\n",
        "# Taken from: https://github.com/rutgerhofste/eeconvert/blob/master/eeconvert/__init__.py\n",
        "def fcToGdf(fc, crs = {'init' :'epsg:4326'}):\n",
        "    \"\"\"converts a featurecollection to a geoPandas GeoDataFrame. Use this function only if all features have a geometry.  \n",
        "    \n",
        "    caveats:\n",
        "    Currently only supports non-geodesic (planar) geometries because of limitations in geoPandas and Leaflet. Geodesic geometries are simply interpreted as planar geometries. \n",
        "    FeatureCollections larger than memory are currently not supported. Consider splitting data and merging (server side) afterwards. \n",
        "    \n",
        "    :param fc (ee.FeatureCollection) : the earth engine feature collection to convert. \n",
        "    :param crs (dictionary, optional) : the coordinate reference system in geopandas format. Defaults to {'init' :'epsg:4326'}\n",
        "    :return: gdf (geoPandas.GeoDataFrame or pandas.DataFrame) : the corresponding (geo)dataframe. \n",
        "        \n",
        "    \"\"\"\n",
        "    crs = {'init' :'epsg:4326'}\n",
        "    features = fc.getInfo()['features']\n",
        "    dictarr = []\n",
        "\n",
        "    print(\"Got features\")\n",
        "    \n",
        "    for f in features:\n",
        "        #geodesic = ee.Feature(f).geometry().edgesAreGeodesics()\n",
        "        #if geodesic:\n",
        "        attr = f['properties']\n",
        "        attr['geometry'] = f['geometry']\n",
        "        attr['geometry']\n",
        "        dictarr.append(attr)\n",
        "\n",
        "\n",
        "    gdf = gpd.GeoDataFrame(dictarr)\n",
        "    gdf['geometry'] = list(map(lambda s: shapely.geometry.shape(s), gdf.geometry))\n",
        "    gdf.crs = crs\n",
        "    return gdf\n",
        "\n",
        "def methane_hotspots(start_date, end_date):\n",
        "    \"\"\"\n",
        "    Return detected methane leaks over period of interest\n",
        "    :param start_date: Initial date of interest (str: 'YYYY-MM-dd')\n",
        "    :param start_date: inal date of interest (str: 'YYYY-MM-dd')\n",
        "    :return: ee.FeatureCollection with leaks detected\n",
        "    \"\"\"\n",
        "    methane_volume = 'CH4_column_volume_mixing_ratio_dry_air' \n",
        "    imageCollection = ee.ImageCollection('COPERNICUS/S5P/OFFL/L3_CH4')\n",
        "\n",
        "    #Import a Landsat 8 image, subset the thermal band, and clip to the\n",
        "    # area of interest.\n",
        "    image = (\n",
        "        imageCollection\n",
        "    .select([methane_volume])\n",
        "    .filterDate(start_date, end_date)\n",
        "    .mean()\n",
        "    .rename('ch4')\n",
        "    )\n",
        "\n",
        "    uniform_kernel = ee.Kernel.square(20, 'pixels')\n",
        "    image_smooth = image.reduceNeighborhood(ee.Reducer.median(),uniform_kernel)\n",
        "    diff_w_smooth = image.subtract(image_smooth)\n",
        "\n",
        "    # Threshold the thermal band to set hot pixels as value 1, mask all else.\n",
        "    hotspots_diff = (\n",
        "        diff_w_smooth\n",
        "        .gt(70)\n",
        "        .selfMask()\n",
        "        .rename('hotspots_diff')\n",
        "    )\n",
        "\n",
        "    # Start forming components from filtered areas\n",
        "    objects = hotspots_diff.connectedComponents(connectedness=ee.Kernel.plus(10),maxSize=128)\n",
        "\n",
        "    # Filter on size of objects\n",
        "    objectSize = (\n",
        "        objects\n",
        "        .select('labels')\n",
        "        .connectedPixelCount(128, False)\n",
        "    )\n",
        "\n",
        "    # Get a pixel area image.\n",
        "    pixelArea = ee.Image.pixelArea()\n",
        "\n",
        "    # Multiply pixel area by the number of pixels in an object to calculate\n",
        "    # the object area. The result is an image where each pixel\n",
        "    # of an object relates the area of the object in m^2.\n",
        "    objectArea = objectSize.multiply(pixelArea)\n",
        "    areaMask = objectArea.gte(10)\n",
        "\n",
        "    # Update the mask of the `objects` layer defined previously using the\n",
        "    # minimum area mask just defined.\n",
        "    objects = objects.updateMask(areaMask)\n",
        "\n",
        "    # Whole world extracted\n",
        "    aoi = ee.Geometry.Polygon(\n",
        "    [[[-179.0, 78.0], [-179.0, -58.0], [179.0, -58.0], [179.0, 78.0]]], None,\n",
        "    False)\n",
        "    \n",
        "    toVectors = objects.reduceToVectors(\n",
        "        geometry=aoi,\n",
        "        crs=image.projection(),\n",
        "        scale=2000,\n",
        "        geometryType='polygon',\n",
        "        eightConnected=False,\n",
        "        labelProperty='hotspots',\n",
        "        reducer=ee.Reducer.mean(),\n",
        "        maxPixels=10e8,\n",
        "    )\n",
        "\n",
        "    return toVectors\n",
        "\n",
        "\n",
        "def save_methane_hotspots(start_date, end_date):\n",
        "    \"\"\"\n",
        "    Return detected methane leaks over period of interest as geopandas dataframe and save file\n",
        "    :param start_date: Initial date of interest (str: 'YYYY-MM-dd')\n",
        "    :param start_date: inal date of interest (str: 'YYYY-MM-dd')\n",
        "    :return: \n",
        "    \"\"\"\n",
        "    methane_hotspots_vectors = methane_hotspots(start_date, end_date)\n",
        "    gpd = fcToGdf(methane_hotspots_vectors)\n",
        "    gpd.to_file(f'methane_hotspots_start_date={start_date}_end_date={end_date}.geojson', driver='GeoJSON')\n",
        "\n",
        "    \n",
        "def run(start_date, end_date, fdir='/mounted/'):\n",
        "    \"\"\"\n",
        "    Return detected methane leaks over period of interest as geopandas dataframe and save file\n",
        "    :param start_date: Initial date of interest (str: 'YYYY-MM-dd')\n",
        "    :param start_date: inal date of interest (str: 'YYYY-MM-dd')\n",
        "    :return: \n",
        "    \"\"\"\n",
        "    # From GEE\n",
        "    methane_hotspots_vectors = methane_hotspots(start_date, end_date)\n",
        "    # Transform to geopandas\n",
        "    hotspots_gpd = fcToGdf(methane_hotspots_vectors)\n",
        "    # Link with infra\n",
        "    hotspot_w_infra = hotspots_as_gdf(hotspots_gpd, start_date, end_date)\n",
        "    # write to disk\n",
        "    gpd.to_file(f'{fdir}/methane_hotspots_start_date={start_date}_end_date={end_date}.geojson', driver='GeoJSON')\n",
        "    \n",
        "    return \"Success\"\n"
      ],
      "outputs": [],
      "execution_count": 8,
      "metadata": {
        "collapsed": true,
        "jupyter": {
          "source_hidden": false,
          "outputs_hidden": false
        },
        "nteract": {
          "transient": {
            "deleting": false
          }
        },
        "gather": {
          "logged": 1616755196759
        }
      }
    },
    {
      "cell_type": "code",
      "source": [
        "run(\"2021-03-14\", \"2021-03-21\", fdir='/mounted/')\n",
        "run(\"2021-03-07\", \"2021-03-14\", fdir='/mounted/')\n",
        "run(\"2021-02-28\", \"2021-03-07\", fdir='/mounted/')"
      ],
      "outputs": [],
      "execution_count": null,
      "metadata": {
        "collapsed": true,
        "jupyter": {
          "source_hidden": false,
          "outputs_hidden": false
        },
        "nteract": {
          "transient": {
            "deleting": false
          }
        }
      }
    },
    {
      "cell_type": "code",
      "source": [
        "run(\"2021-02-21\", \"2021-02-28\", fdir='/mounted/')\n",
        "run(\"2021-02-14\", \"2021-02-21\", fdir='/mounted/')\n",
        "run(\"2021-02-07\", \"2021-02-21\", fdir='/mounted/')\n",
        "run(\"2021-01-31\", \"2021-02-07\", fdir='/mounted/')"
      ],
      "outputs": [],
      "execution_count": null,
      "metadata": {
        "collapsed": true,
        "jupyter": {
          "source_hidden": false,
          "outputs_hidden": false
        },
        "nteract": {
          "transient": {
            "deleting": false
          }
        }
      }
    },
    {
      "cell_type": "markdown",
      "source": [
        "# Time serie"
      ],
      "metadata": {
        "nteract": {
          "transient": {
            "deleting": false
          }
        }
      }
    },
    {
      "cell_type": "code",
      "source": [
        "import pandas as pd\n",
        "\n",
        "def ee_array_to_df(arr, list_of_bands):\n",
        "    \"\"\"Transforms client-side ee.Image.getRegion array to pandas.DataFrame.\"\"\"\n",
        "    df = pd.DataFrame(arr)\n",
        "\n",
        "    # Rearrange the header.\n",
        "    headers = df.iloc[0]\n",
        "    df = pd.DataFrame(df.values[1:], columns=headers)\n",
        "\n",
        "    # Remove rows without data inside.\n",
        "    df = df[['longitude', 'latitude', 'time', *list_of_bands]].dropna()\n",
        "\n",
        "    # Convert the data to numeric values.\n",
        "    for band in list_of_bands:\n",
        "        df[band] = pd.to_numeric(df[band], errors='coerce')\n",
        "\n",
        "    # Convert the time field into a datetime.\n",
        "    df['datetime'] = pd.to_datetime(df['time'], unit='ms')\n",
        "\n",
        "    # Keep the columns of interest.\n",
        "    df = df[['time','datetime',  *list_of_bands]]\n",
        "\n",
        "    return df"
      ],
      "outputs": [],
      "execution_count": 5,
      "metadata": {
        "collapsed": true,
        "jupyter": {
          "source_hidden": false,
          "outputs_hidden": false
        },
        "nteract": {
          "transient": {
            "deleting": false
          }
        },
        "gather": {
          "logged": 1616752773026
        }
      }
    },
    {
      "cell_type": "code",
      "source": [
        "import geopandas as gpd"
      ],
      "outputs": [],
      "execution_count": 15,
      "metadata": {
        "collapsed": true,
        "jupyter": {
          "source_hidden": false,
          "outputs_hidden": false
        },
        "nteract": {
          "transient": {
            "deleting": false
          }
        },
        "gather": {
          "logged": 1616753119794
        }
      }
    },
    {
      "cell_type": "code",
      "source": [
        "fpath_hotspots = 'methane_hotspots_start_date=2021-03-01_end_date=2021-03-04.geojson'\n",
        "hotspots = gpd.read_file(fpath_hotspots)"
      ],
      "outputs": [],
      "execution_count": 17,
      "metadata": {
        "collapsed": true,
        "jupyter": {
          "source_hidden": false,
          "outputs_hidden": false
        },
        "nteract": {
          "transient": {
            "deleting": false
          }
        },
        "gather": {
          "logged": 1616753139573
        }
      }
    },
    {
      "cell_type": "markdown",
      "source": [
        "# Timeseries"
      ],
      "metadata": {
        "nteract": {
          "transient": {
            "deleting": false
          }
        }
      }
    },
    {
      "cell_type": "code",
      "source": [
        "start_date=\"2021-02-01\"\n",
        "end_date = \"2021-04-01\"\n",
        "roi = ee.Geometry.Polygon(list(hotspots.iloc[1].geometry.exterior.coords))\n",
        "im_coll = (ee.ImageCollection('COPERNICUS/S5P/OFFL/L3_CH4')\n",
        "           .filterBounds(roi)\n",
        "           .filterDate(ee.Date(start_date),ee.Date(end_date))\n",
        "           .map(lambda img: img.set('date', ee.Date(img.date()).format('YYYYMMdd')))\n",
        "           .sort('date'))\n",
        "\n",
        "region_im = im_coll.getRegion(roi, 2000).getInfo()\n",
        "timestamplist = (im_coll.aggregate_array('date')\n",
        "                 .map(lambda d: ee.String('T').cat(ee.String(d)))\n",
        "                 .getInfo())\n",
        "#timestamplist"
      ],
      "outputs": [],
      "execution_count": 74,
      "metadata": {
        "collapsed": true,
        "jupyter": {
          "source_hidden": false,
          "outputs_hidden": false
        },
        "nteract": {
          "transient": {
            "deleting": false
          }
        },
        "gather": {
          "logged": 1616754429146
        }
      }
    },
    {
      "cell_type": "code",
      "source": [
        "df_mth = ee_array_to_df(region_im, ['CH4_column_volume_mixing_ratio_dry_air'])\n",
        "ax = df_mth.plot(x=\"datetime\", y=\"CH4_column_volume_mixing_ratio_dry_air\")\n",
        "ax.set_ylim(1700, 2000)"
      ],
      "outputs": [
        {
          "output_type": "execute_result",
          "execution_count": 75,
          "data": {
            "text/plain": "(1700.0, 2000.0)"
          },
          "metadata": {}
        },
        {
          "output_type": "display_data",
          "data": {
            "text/plain": "<Figure size 432x288 with 1 Axes>",
            "image/png": "[encoded data removed]"
          },
          "metadata": {
            "needs_background": "light"
          }
        }
      ],
      "execution_count": 75,
      "metadata": {
        "collapsed": true,
        "jupyter": {
          "source_hidden": false,
          "outputs_hidden": false
        },
        "nteract": {
          "transient": {
            "deleting": false
          }
        },
        "gather": {
          "logged": 1616754429400
        }
      }
    },
    {
      "cell_type": "code",
      "source": [],
      "outputs": [],
      "execution_count": null,
      "metadata": {
        "collapsed": true,
        "jupyter": {
          "source_hidden": false,
          "outputs_hidden": false
        },
        "nteract": {
          "transient": {
            "deleting": false
          }
        }
      }
    }
  ],
  "metadata": {
    "kernelspec": {
      "name": "python3-azureml",
      "language": "python",
      "display_name": "Python 3.6 - AzureML"
    },
    "language_info": {
      "name": "python",
      "version": "3.6.9",
      "mimetype": "text/x-python",
      "codemirror_mode": {
        "name": "ipython",
        "version": 3
      },
      "pygments_lexer": "ipython3",
      "nbconvert_exporter": "python",
      "file_extension": ".py"
    },
    "kernel_info": {
      "name": "python3-azureml"
    },
    "microsoft": {
      "host": {
        "AzureML": {
          "notebookHasBeenCompleted": true
        }
      }
    },
    "nteract": {
      "version": "nteract-front-end@1.0.0"
    }
  },
  "nbformat": 4,
  "nbformat_minor": 2
}